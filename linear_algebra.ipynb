{
 "cells": [
  {
   "cell_type": "markdown",
   "id": "600463c3",
   "metadata": {},
   "source": [
    "# Linear Algebra"
   ]
  },
  {
   "cell_type": "markdown",
   "id": "1e76c731",
   "metadata": {},
   "source": [
    "# Fundamentos\n"
   ]
  },
  {
   "cell_type": "markdown",
   "id": "106e2820",
   "metadata": {},
   "source": [
    "## Escalares"
   ]
  },
  {
   "cell_type": "code",
   "execution_count": 1,
   "id": "debb2f37",
   "metadata": {},
   "outputs": [],
   "source": [
    "\n",
    "x1 = 2\n",
    "x2 = 0.4\n",
    "x3 = -2"
   ]
  },
  {
   "cell_type": "markdown",
   "id": "3372e10a",
   "metadata": {},
   "source": [
    "## Vetores"
   ]
  },
  {
   "cell_type": "code",
   "execution_count": 2,
   "id": "c66a6d31",
   "metadata": {},
   "outputs": [],
   "source": [
    "import numpy as np"
   ]
  },
  {
   "cell_type": "code",
   "execution_count": 3,
   "id": "b50ada58",
   "metadata": {},
   "outputs": [],
   "source": [
    "# Criação de dois vetores (A [2, 2] e B[5, 3])\n",
    "A = np.array([ 2, 2 ])\n",
    "B = np.array([ 5, 3])"
   ]
  },
  {
   "cell_type": "code",
   "execution_count": 4,
   "id": "e1f657cb",
   "metadata": {},
   "outputs": [
    {
     "data": {
      "text/plain": [
       "array([5, 3])"
      ]
     },
     "execution_count": 4,
     "metadata": {},
     "output_type": "execute_result"
    }
   ],
   "source": [
    "B"
   ]
  },
  {
   "cell_type": "markdown",
   "id": "826ac263",
   "metadata": {},
   "source": [
    "## Matrizes\n"
   ]
  },
  {
   "cell_type": "code",
   "execution_count": 5,
   "id": "27bee639",
   "metadata": {},
   "outputs": [],
   "source": [
    "# Matriz 3x2 com números de 1 a 6\n",
    "A = np.array([[1,2 ], [3, 4], [5,6]]).shape"
   ]
  },
  {
   "cell_type": "code",
   "execution_count": 6,
   "id": "73bfa8dc",
   "metadata": {},
   "outputs": [
    {
     "data": {
      "text/plain": [
       "array([[ 0, -1],\n",
       "       [ 1,  0]])"
      ]
     },
     "execution_count": 6,
     "metadata": {},
     "output_type": "execute_result"
    }
   ],
   "source": [
    "# Matriz de rotação para girar pontos em 90 graus no sentido anti-horário (0, -1), (1, 0)\n",
    "matriz_rotacao = np.array([[0, -1], [1, 0]])\n",
    "matriz_rotacao"
   ]
  },
  {
   "cell_type": "markdown",
   "id": "b2bb1331",
   "metadata": {},
   "source": [
    "## Tensores"
   ]
  },
  {
   "cell_type": "code",
   "execution_count": null,
   "id": "fc8f7a22",
   "metadata": {},
   "outputs": [],
   "source": [
    "pip install tensorflow-cpu"
   ]
  },
  {
   "cell_type": "code",
   "execution_count": 3,
   "id": "2559699a",
   "metadata": {},
   "outputs": [],
   "source": [
    "import tensorflow as tf"
   ]
  },
  {
   "cell_type": "code",
   "execution_count": 6,
   "id": "25ebb331",
   "metadata": {},
   "outputs": [
    {
     "data": {
      "text/plain": [
       "array([[ 1],\n",
       "       [ 2],\n",
       "       [ 3],\n",
       "       [ 4],\n",
       "       [ 5],\n",
       "       [ 6],\n",
       "       [ 7],\n",
       "       [ 8],\n",
       "       [ 9],\n",
       "       [10],\n",
       "       [11],\n",
       "       [12],\n",
       "       [13],\n",
       "       [14],\n",
       "       [15],\n",
       "       [16]], dtype=int32)"
      ]
     },
     "execution_count": 6,
     "metadata": {},
     "output_type": "execute_result"
    }
   ],
   "source": [
    "# Criando um tensor tridimensional\n",
    "tensor = tf.constant([[[1, 2], [3, 4]], [[5, 6], [7, 8]], [[9, 10], [11, 12]], [[13, 14], [15, 16]]])\n",
    "tensor.numpy().reshape(16, 1)"
   ]
  }
 ],
 "metadata": {
  "kernelspec": {
   "display_name": "ds_producao",
   "language": "python",
   "name": "python3"
  },
  "language_info": {
   "codemirror_mode": {
    "name": "ipython",
    "version": 3
   },
   "file_extension": ".py",
   "mimetype": "text/x-python",
   "name": "python",
   "nbconvert_exporter": "python",
   "pygments_lexer": "ipython3",
   "version": "3.9.19"
  }
 },
 "nbformat": 4,
 "nbformat_minor": 5
}
