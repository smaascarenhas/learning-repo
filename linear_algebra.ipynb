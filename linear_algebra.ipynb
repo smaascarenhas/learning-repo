{
 "cells": [
  {
   "cell_type": "markdown",
   "id": "600463c3",
   "metadata": {},
   "source": [
    "# Linear Algebra"
   ]
  },
  {
   "cell_type": "markdown",
   "id": "1e76c731",
   "metadata": {},
   "source": [
    "# Fundamentos\n"
   ]
  },
  {
   "cell_type": "markdown",
   "id": "106e2820",
   "metadata": {},
   "source": [
    "## Escalares"
   ]
  },
  {
   "cell_type": "code",
   "execution_count": 1,
   "id": "debb2f37",
   "metadata": {},
   "outputs": [],
   "source": [
    "\n",
    "x1 = 2\n",
    "x2 = 0.4\n",
    "x3 = -2"
   ]
  },
  {
   "cell_type": "markdown",
   "id": "3372e10a",
   "metadata": {},
   "source": [
    "## Vetores"
   ]
  },
  {
   "cell_type": "code",
   "execution_count": 3,
   "id": "c66a6d31",
   "metadata": {},
   "outputs": [],
   "source": [
    "import numpy as np"
   ]
  },
  {
   "cell_type": "code",
   "execution_count": 3,
   "id": "b50ada58",
   "metadata": {},
   "outputs": [],
   "source": [
    "# Criação de dois vetores (A [2, 2] e B[5, 3])\n",
    "A = np.array([ 2, 2 ])\n",
    "B = np.array([ 5, 3])"
   ]
  },
  {
   "cell_type": "code",
   "execution_count": 4,
   "id": "e1f657cb",
   "metadata": {},
   "outputs": [
    {
     "data": {
      "text/plain": [
       "array([5, 3])"
      ]
     },
     "execution_count": 4,
     "metadata": {},
     "output_type": "execute_result"
    }
   ],
   "source": [
    "B"
   ]
  },
  {
   "cell_type": "markdown",
   "id": "826ac263",
   "metadata": {},
   "source": [
    "## Matrizes\n"
   ]
  },
  {
   "cell_type": "code",
   "execution_count": 5,
   "id": "27bee639",
   "metadata": {},
   "outputs": [],
   "source": [
    "# Matriz 3x2 com números de 1 a 6\n",
    "A = np.array([[1,2 ], [3, 4], [5,6]]).shape"
   ]
  },
  {
   "cell_type": "code",
   "execution_count": 6,
   "id": "73bfa8dc",
   "metadata": {},
   "outputs": [
    {
     "data": {
      "text/plain": [
       "array([[ 0, -1],\n",
       "       [ 1,  0]])"
      ]
     },
     "execution_count": 6,
     "metadata": {},
     "output_type": "execute_result"
    }
   ],
   "source": [
    "# Matriz de rotação para girar pontos em 90 graus no sentido anti-horário (0, -1), (1, 0)\n",
    "matriz_rotacao = np.array([[0, -1], [1, 0]])\n",
    "matriz_rotacao"
   ]
  },
  {
   "cell_type": "markdown",
   "id": "b2bb1331",
   "metadata": {},
   "source": [
    "## Tensores"
   ]
  },
  {
   "cell_type": "code",
   "execution_count": null,
   "id": "fc8f7a22",
   "metadata": {},
   "outputs": [],
   "source": [
    "pip install tensorflow-cpu"
   ]
  },
  {
   "cell_type": "code",
   "execution_count": 3,
   "id": "2559699a",
   "metadata": {},
   "outputs": [],
   "source": [
    "import tensorflow as tf"
   ]
  },
  {
   "cell_type": "code",
   "execution_count": 6,
   "id": "25ebb331",
   "metadata": {},
   "outputs": [
    {
     "data": {
      "text/plain": [
       "array([[ 1],\n",
       "       [ 2],\n",
       "       [ 3],\n",
       "       [ 4],\n",
       "       [ 5],\n",
       "       [ 6],\n",
       "       [ 7],\n",
       "       [ 8],\n",
       "       [ 9],\n",
       "       [10],\n",
       "       [11],\n",
       "       [12],\n",
       "       [13],\n",
       "       [14],\n",
       "       [15],\n",
       "       [16]], dtype=int32)"
      ]
     },
     "execution_count": 6,
     "metadata": {},
     "output_type": "execute_result"
    }
   ],
   "source": [
    "# Criando um tensor tridimensional\n",
    "tensor = tf.constant([[[1, 2], [3, 4]], [[5, 6], [7, 8]], [[9, 10], [11, 12]], [[13, 14], [15, 16]]])\n",
    "tensor.numpy().reshape(16, 1)"
   ]
  },
  {
   "cell_type": "markdown",
   "id": "1bb7ff15",
   "metadata": {},
   "source": [
    "## Vetores"
   ]
  },
  {
   "cell_type": "markdown",
   "id": "c037e6d2",
   "metadata": {},
   "source": [
    "Eles podem ser visualizados geometricamente como setas em um plano cartesiano. A representação de um vetor é composta por coordenadas que indicam a direção e o tamanho (magnitude) do vetor. A norma de um vetor, frequentemente denotava como ||v||, é uma medica de seu comprimento."
   ]
  },
  {
   "cell_type": "code",
   "execution_count": 10,
   "id": "c5639366",
   "metadata": {},
   "outputs": [],
   "source": [
    "import matplotlib.pyplot as plt\n"
   ]
  },
  {
   "cell_type": "code",
   "execution_count": 11,
   "id": "0f55a5ad",
   "metadata": {},
   "outputs": [],
   "source": [
    "a = np.array([4, 2])\n",
    "b = np.array([1, 3])"
   ]
  },
  {
   "cell_type": "code",
   "execution_count": 12,
   "id": "b213ed57",
   "metadata": {},
   "outputs": [
    {
     "data": {
      "image/png": "[encoded data removed]",
      "text/plain": [
       "<Figure size 640x480 with 1 Axes>"
      ]
     },
     "metadata": {},
     "output_type": "display_data"
    }
   ],
   "source": [
    "# Visualizando os vetores\n",
    "plt.quiver(0, 0, a[0], a[1], angles='xy', scale_units='xy', scale=1, color='r', label='a[4, 2]')\n",
    "plt.quiver(0, 0, b[0], b[1], angles='xy', scale_units='xy', scale=1, color='b', label='b[1, 3]')\n",
    "plt.xlim(0,5)\n",
    "plt.ylim(0,4)\n",
    "plt.xlabel('X')\n",
    "plt.ylabel('Y')\n",
    "plt.grid()\n",
    "plt.legend()\n",
    "plt.show()"
   ]
  },
  {
   "cell_type": "markdown",
   "id": "d222b0a5",
   "metadata": {},
   "source": [
    "## Vetores unitários"
   ]
  },
  {
   "cell_type": "markdown",
   "id": "39766b74",
   "metadata": {},
   "source": [
    "Eles têm a mesma direção dos vetores originais, mas em uma escala menor. A escala deles é sempre igual a 1.\n"
   ]
  },
  {
   "cell_type": "markdown",
   "id": "1a9bf093",
   "metadata": {},
   "source": [
    "O vetor unitário é calculado dividindo o vetor \\( x \\) pela sua norma L2:\n",
    "\n",
    "$$\n",
    "\\hat{x} = \\frac{x}{\\lVert x \\rVert_2}\n",
    "$$\n",
    "\n",
    "Onde:\n",
    "\n",
    "- \\( x \\) é o vetor original  \n",
    "- ||x||2 representa a norma L2 (euclidiana) de \\( x \\), definida como:\n",
    "\n",
    "$$\n",
    "\\lVert x \\rVert_2 = \\sqrt{\\sum_{i=1}^{n} x_i^2}\n",
    "$$\n"
   ]
  },
  {
   "cell_type": "code",
   "execution_count": 16,
   "id": "3d2d7395",
   "metadata": {},
   "outputs": [],
   "source": [
    "# Calculando vetores unitários com a norma L2\n",
    "vetor_unit_a = a / np.linalg.norm(a)\n",
    "\n",
    "vetor_unit_b = b / np.linalg.norm(b)"
   ]
  },
  {
   "cell_type": "code",
   "execution_count": 19,
   "id": "43d618cf",
   "metadata": {},
   "outputs": [
    {
     "data": {
      "text/plain": [
       "np.float64(0.9999999999999999)"
      ]
     },
     "execution_count": 19,
     "metadata": {},
     "output_type": "execute_result"
    }
   ],
   "source": [
    "np.linalg.norm(vetor_unit_a)"
   ]
  },
  {
   "cell_type": "code",
   "execution_count": 20,
   "id": "e66aa986",
   "metadata": {},
   "outputs": [
    {
     "data": {
      "text/plain": [
       "np.float64(0.9999999999999999)"
      ]
     },
     "execution_count": 20,
     "metadata": {},
     "output_type": "execute_result"
    }
   ],
   "source": [
    "np.linalg.norm(vetor_unit_b)"
   ]
  },
  {
   "cell_type": "markdown",
   "id": "0b504207",
   "metadata": {},
   "source": [
    "## Soma e Subtração de Vetores"
   ]
  },
  {
   "cell_type": "code",
   "execution_count": 24,
   "id": "46ba83d3",
   "metadata": {},
   "outputs": [
    {
     "data": {
      "text/plain": [
       "array([5, 5])"
      ]
     },
     "execution_count": 24,
     "metadata": {},
     "output_type": "execute_result"
    }
   ],
   "source": [
    "soma = a + b\n",
    "soma"
   ]
  },
  {
   "cell_type": "code",
   "execution_count": 27,
   "id": "bd841b82",
   "metadata": {},
   "outputs": [
    {
     "data": {
      "text/plain": [
       "array([ 3, -1])"
      ]
     },
     "execution_count": 27,
     "metadata": {},
     "output_type": "execute_result"
    }
   ],
   "source": [
    "subtracao = a - b\n",
    "subtracao"
   ]
  },
  {
   "cell_type": "code",
   "execution_count": 28,
   "id": "66ac6eb4",
   "metadata": {},
   "outputs": [
    {
     "data": {
      "text/plain": [
       "np.int64(10)"
      ]
     },
     "execution_count": 28,
     "metadata": {},
     "output_type": "execute_result"
    }
   ],
   "source": [
    "# Produto escalar com np.dot\n",
    "np.dot(a, b)"
   ]
  }
 ],
 "metadata": {
  "kernelspec": {
   "display_name": "ds_producao",
   "language": "python",
   "name": "python3"
  },
  "language_info": {
   "codemirror_mode": {
    "name": "ipython",
    "version": 3
   },
   "file_extension": ".py",
   "mimetype": "text/x-python",
   "name": "python",
   "nbconvert_exporter": "python",
   "pygments_lexer": "ipython3",
   "version": "3.9.19"
  }
 },
 "nbformat": 4,
 "nbformat_minor": 5
}
